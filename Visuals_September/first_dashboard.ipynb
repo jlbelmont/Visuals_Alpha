{
 "cells": [
  {
   "cell_type": "code",
   "execution_count": 1,
   "metadata": {},
   "outputs": [
    {
     "name": "stderr",
     "output_type": "stream",
     "text": [
      "BokehDeprecationWarning: 'tile_providers module' was deprecated in Bokeh 3.0.0 and will be removed, use 'add_tile directly' instead.\n"
     ]
    }
   ],
   "source": [
    "import numpy as np\n",
    "import pandas as pd\n",
    "\n",
    "from bokeh.io import output_notebook, show, output_file, save, push_notebook, curdoc\n",
    "from bokeh.plotting import figure, curdoc, gridplot\n",
    "from bokeh.models import (DateRangeSlider, ColumnDataSource, HoverTool, CustomJS, \n",
    "                          Slider, Range1d, FactorRange, Legend, Label, \n",
    "                          LabelSet, ColorBar, NumeralTickFormatter, \n",
    "                          DatetimeTickFormatter, Toggle, CheckboxGroup, \n",
    "                          RadioButtonGroup, TextInput, Button, Div, Tabs, Panel)\n",
    "from bokeh.layouts import row, column, gridplot, layout\n",
    "from bokeh.palettes import HighContrast3, Viridis256, Category20, Inferno256, Cividis256, Turbo256\n",
    "from bokeh.transform import factor_cmap, dodge, linear_cmap, log_cmap\n",
    "from bokeh.events import DoubleTap, MouseMove, PanStart, Tap\n",
    "from bokeh.tile_providers import get_provider, Vendors\n",
    "from bokeh.embed import components, file_html\n",
    "from bokeh.resources import CDN\n",
    "from bokeh.themes import Theme\n",
    "from bokeh.application import Application\n",
    "from bokeh.application.handlers import FunctionHandler"
   ]
  },
  {
   "cell_type": "code",
   "execution_count": null,
   "metadata": {},
   "outputs": [],
   "source": []
  }
 ],
 "metadata": {
  "kernelspec": {
   "display_name": "visuals_alpha",
   "language": "python",
   "name": "python3"
  },
  "language_info": {
   "codemirror_mode": {
    "name": "ipython",
    "version": 3
   },
   "file_extension": ".py",
   "mimetype": "text/x-python",
   "name": "python",
   "nbconvert_exporter": "python",
   "pygments_lexer": "ipython3",
   "version": "3.9.19"
  }
 },
 "nbformat": 4,
 "nbformat_minor": 2
}
